{
 "cells": [
  {
   "cell_type": "markdown",
   "id": "ddaa144a",
   "metadata": {},
   "source": [
    "## Data PreProcessing"
   ]
  },
  {
   "cell_type": "code",
   "execution_count": null,
   "id": "5cf2e047",
   "metadata": {},
   "outputs": [],
   "source": [
    "import pandas as pd\n",
    "\n",
    "# Load datasets\n",
    "q1 = pd.read_excel('./LCA_Disclosure_Data_FY2023_Q1.xlsx')\n",
    "q2 = pd.read_excel('./LCA_Disclosure_Data_FY2023_Q2.xlsx')\n",
    "q3 = pd.read_excel('./LCA_Disclosure_Data_FY2023_Q3.xlsx')\n",
    "q4 = pd.read_excel('./LCA_Disclosure_Data_FY2023_Q4.xlsx')\n",
    "\n",
    "# Concatenate datasets\n",
    "combined_data = pd.concat([q1,q2,q3,q4])\n",
    "\n",
    "# Save as CSV\n",
    "combined_data.to_csv('./LCA_FY_2023_raw.csv', index=False)\n"
   ]
  },
  {
   "cell_type": "code",
   "execution_count": 58,
   "id": "55a3fd56",
   "metadata": {},
   "outputs": [
    {
     "data": {
      "text/plain": [
       "Index(['CASE_NUMBER', 'CASE_STATUS', 'RECEIVED_DATE', 'DECISION_DATE',\n",
       "       'ORIGINAL_CERT_DATE', 'VISA_CLASS', 'JOB_TITLE', 'SOC_CODE',\n",
       "       'SOC_TITLE', 'FULL_TIME_POSITION', 'BEGIN_DATE', 'END_DATE',\n",
       "       'TOTAL_WORKER_POSITIONS', 'NEW_EMPLOYMENT', 'CONTINUED_EMPLOYMENT',\n",
       "       'CHANGE_PREVIOUS_EMPLOYMENT', 'NEW_CONCURRENT_EMPLOYMENT',\n",
       "       'CHANGE_EMPLOYER', 'AMENDED_PETITION', 'EMPLOYER_NAME',\n",
       "       'TRADE_NAME_DBA', 'EMPLOYER_ADDRESS1', 'EMPLOYER_ADDRESS2',\n",
       "       'EMPLOYER_CITY', 'EMPLOYER_STATE', 'EMPLOYER_POSTAL_CODE',\n",
       "       'EMPLOYER_COUNTRY', 'EMPLOYER_PROVINCE', 'EMPLOYER_PHONE',\n",
       "       'EMPLOYER_PHONE_EXT', 'NAICS_CODE', 'EMPLOYER_POC_LAST_NAME',\n",
       "       'EMPLOYER_POC_FIRST_NAME', 'EMPLOYER_POC_MIDDLE_NAME',\n",
       "       'EMPLOYER_POC_JOB_TITLE', 'EMPLOYER_POC_ADDRESS1',\n",
       "       'EMPLOYER_POC_ADDRESS2', 'EMPLOYER_POC_CITY', 'EMPLOYER_POC_STATE',\n",
       "       'EMPLOYER_POC_POSTAL_CODE', 'EMPLOYER_POC_COUNTRY',\n",
       "       'EMPLOYER_POC_PROVINCE', 'EMPLOYER_POC_PHONE', 'EMPLOYER_POC_PHONE_EXT',\n",
       "       'EMPLOYER_POC_EMAIL', 'AGENT_REPRESENTING_EMPLOYER',\n",
       "       'AGENT_ATTORNEY_LAST_NAME', 'AGENT_ATTORNEY_FIRST_NAME',\n",
       "       'AGENT_ATTORNEY_MIDDLE_NAME', 'AGENT_ATTORNEY_ADDRESS1',\n",
       "       'AGENT_ATTORNEY_ADDRESS2', 'AGENT_ATTORNEY_CITY',\n",
       "       'AGENT_ATTORNEY_STATE', 'AGENT_ATTORNEY_POSTAL_CODE',\n",
       "       'AGENT_ATTORNEY_COUNTRY', 'AGENT_ATTORNEY_PROVINCE',\n",
       "       'AGENT_ATTORNEY_PHONE', 'AGENT_ATTORNEY_PHONE_EXT',\n",
       "       'AGENT_ATTORNEY_EMAIL_ADDRESS', 'LAWFIRM_NAME_BUSINESS_NAME',\n",
       "       'STATE_OF_HIGHEST_COURT', 'NAME_OF_HIGHEST_STATE_COURT',\n",
       "       'WORKSITE_WORKERS', 'SECONDARY_ENTITY',\n",
       "       'SECONDARY_ENTITY_BUSINESS_NAME', 'WORKSITE_ADDRESS1',\n",
       "       'WORKSITE_ADDRESS2', 'WORKSITE_CITY', 'WORKSITE_COUNTY',\n",
       "       'WORKSITE_STATE', 'WORKSITE_POSTAL_CODE', 'WAGE_RATE_OF_PAY_FROM',\n",
       "       'WAGE_RATE_OF_PAY_TO', 'WAGE_UNIT_OF_PAY', 'PREVAILING_WAGE',\n",
       "       'PW_UNIT_OF_PAY', 'PW_TRACKING_NUMBER', 'PW_WAGE_LEVEL', 'PW_OES_YEAR',\n",
       "       'PW_OTHER_SOURCE', 'PW_OTHER_YEAR', 'PW_SURVEY_PUBLISHER',\n",
       "       'PW_SURVEY_NAME', 'TOTAL_WORKSITE_LOCATIONS', 'AGREE_TO_LC_STATEMENT',\n",
       "       'H_1B_DEPENDENT', 'WILLFUL_VIOLATOR', 'SUPPORT_H1B', 'STATUTORY_BASIS',\n",
       "       'APPENDIX_A_ATTACHED', 'PUBLIC_DISCLOSURE', 'PREPARER_LAST_NAME',\n",
       "       'PREPARER_FIRST_NAME', 'PREPARER_MIDDLE_INITIAL',\n",
       "       'PREPARER_BUSINESS_NAME', 'PREPARER_EMAIL'],\n",
       "      dtype='object')"
      ]
     },
     "execution_count": 58,
     "metadata": {},
     "output_type": "execute_result"
    }
   ],
   "source": [
    "import pandas as pd\n",
    "data_2023 = pd.read_csv('./LCA_FY_2023_raw.csv', low_memory=False)\n",
    "\n",
    "data_2023.shape\n",
    "data_2023.columns\n"
   ]
  },
  {
   "cell_type": "code",
   "execution_count": 59,
   "id": "42fa088a",
   "metadata": {},
   "outputs": [],
   "source": [
    "# Select custom columns\n",
    "selected_columns = ['VISA_CLASS', 'JOB_TITLE', 'EMPLOYER_NAME', 'SOC_TITLE', 'FULL_TIME_POSITION',\n",
    "                    'WORKSITE_CITY', 'WORKSITE_STATE', 'PREVAILING_WAGE', 'PW_UNIT_OF_PAY',\n",
    "                    'EMPLOYER_CITY', 'EMPLOYER_STATE', 'EMPLOYER_COUNTRY', 'CASE_STATUS']\n",
    "\n",
    "filtered_df = data_2023[selected_columns].copy()\n",
    "\n",
    "# Combine 'WORKSITE_CITY' and 'WORKSITE_STATE' into a single column\n",
    "filtered_df['Worksite'] = filtered_df['WORKSITE_CITY'] + ', ' + filtered_df['WORKSITE_STATE']\n",
    "\n",
    "# Combine 'EMPLOYER_CITY' and 'EMPLOYER_STATE' into a single column\n",
    "filtered_df['Employer_Location'] = filtered_df['EMPLOYER_CITY'] + ', ' + filtered_df['EMPLOYER_STATE']\n",
    "\n",
    "# Drop the original columns\n",
    "filtered_df.drop(columns=['WORKSITE_CITY', 'WORKSITE_STATE', 'EMPLOYER_CITY', 'EMPLOYER_STATE'], inplace=True)\n",
    "\n",
    "# Define custom column names for consistency\n",
    "custom_column_names = {\n",
    "    'VISA_CLASS': 'Visa_Class',\n",
    "    'JOB_TITLE': 'Job_Title',\n",
    "    'EMPLOYER_NAME': 'Employer_Name',\n",
    "    'FULL_TIME_POSITION': 'Full_Time_Position',\n",
    "    'PREVAILING_WAGE': 'Prevailing_Wage',\n",
    "    'PW_UNIT_OF_PAY': 'Unit_Of_Pay',\n",
    "    'EMPLOYER_COUNTRY': 'Employer_Country',\n",
    "    'CASE_STATUS': 'Case_Status',\n",
    "    'SOC_TITLE': 'SOC_Title',\n",
    "}\n",
    "\n",
    "# Rename columns using custom names\n",
    "filtered_df.rename(columns=custom_column_names, inplace=True)\n",
    "\n",
    "# Save the DataFrame with custom column names to a CSV file\n",
    "filtered_df.to_csv('./LCA_FY_2023.csv', index=False)\n"
   ]
  },
  {
   "cell_type": "code",
   "execution_count": 64,
   "id": "3cdae2d1",
   "metadata": {},
   "outputs": [
    {
     "data": {
      "text/plain": [
       "['Visa_Class',\n",
       " 'Job_Title',\n",
       " 'Employer_Name',\n",
       " 'SOC_Title',\n",
       " 'Full_Time_Position',\n",
       " 'Prevailing_Wage',\n",
       " 'Unit_Of_Pay',\n",
       " 'Employer_Country',\n",
       " 'Case_Status',\n",
       " 'Worksite',\n",
       " 'Employer_Location']"
      ]
     },
     "execution_count": 64,
     "metadata": {},
     "output_type": "execute_result"
    }
   ],
   "source": [
    "import pandas as pd\n",
    "\n",
    "# Load datasets\n",
    "y2019 = pd.read_csv('./LCA_FY_2019.csv', low_memory=False)\n",
    "y2020 = pd.read_csv('./LCA_FY_2020.csv', low_memory=False)\n",
    "y2021 = pd.read_csv('./LCA_FY_2021.csv', low_memory=False)\n",
    "y2022 = pd.read_csv('./LCA_FY_2022.csv', low_memory=False)\n",
    "y2023 = pd.read_csv('./LCA_FY_2023.csv', low_memory=False)\n",
    "\n",
    "#y2019.shape\n",
    "#y2020.shape\n",
    "#y2021.shape\n",
    "y2023.columns.tolist()"
   ]
  },
  {
   "cell_type": "code",
   "execution_count": 63,
   "id": "4761ed0a",
   "metadata": {},
   "outputs": [
    {
     "data": {
      "text/plain": [
       "Visa_Class            0.0\n",
       "Job_Title             0.0\n",
       "Employer_Name         0.0\n",
       "SOC_Title             0.0\n",
       "Full_Time_Position    0.0\n",
       "Prevailing_Wage       0.0\n",
       "Unit_Of_Pay           0.0\n",
       "Employer_Country      0.0\n",
       "Case_Status           0.0\n",
       "Worksite              0.0\n",
       "Employer_Location     0.0\n",
       "dtype: float64"
      ]
     },
     "execution_count": 63,
     "metadata": {},
     "output_type": "execute_result"
    }
   ],
   "source": [
    "# Check for missing values in each column\n",
    "#missing_values = y2019.isnull().sum()\n",
    "#missing_values = y2020.isnull().sum()\n",
    "#missing_values = y2021.isnull().sum()\n",
    "#missing_values = y2022.isnull().sum()\n",
    "missing_values = y2023.isnull().sum()\n",
    "\n",
    "# Calculate the percentage of missing values in each column\n",
    "#missing_percentage = (y2019.isnull().mean() * 100).round(2)\n",
    "#missing_percentage = (y2020.isnull().mean() * 100).round(2)\n",
    "#missing_percentage = (y2021.isnull().mean() * 100).round(2)\n",
    "#missing_percentage = (y2022.isnull().mean() * 100).round(2)\n",
    "missing_percentage = (y2023.isnull().mean() * 100).round(2)\n",
    "\n",
    "missing_percentage"
   ]
  },
  {
   "cell_type": "code",
   "execution_count": 62,
   "id": "4e7a4b4e",
   "metadata": {},
   "outputs": [],
   "source": [
    "# Replace all missing values with \"Unknown\"\n",
    "y2023.fillna('Unknown', inplace=True)\n",
    "\n",
    "# Save the modified DataFrame back to a CSV file\n",
    "y2023.to_csv('./LCA_FY_2023.csv', index=False)"
   ]
  },
  {
   "cell_type": "code",
   "execution_count": 65,
   "id": "8227b8ed",
   "metadata": {},
   "outputs": [],
   "source": [
    "# Filter data to only include H1b as interested data\n",
    "'''\n",
    "\n",
    "# Filter the dataset to only include records for the H1B visa type\n",
    "h1b_df = y2019[y2019['Visa_Class'] == 'H-1B']\n",
    "\n",
    "# Save the filtered DataFrame to a new CSV file if needed\n",
    "h1b_df.to_csv('./LCA_FY_2019.csv', index=False)\n",
    "\n",
    "\n",
    "\n",
    "# Filter the dataset to only include records for the H1B visa type\n",
    "h1b_df = y2020[y2020['Visa_Class'] == 'H-1B']\n",
    "\n",
    "# Save the filtered DataFrame to a new CSV file if needed\n",
    "h1b_df.to_csv('./LCA_FY_2020.csv', index=False)\n",
    "\n",
    "\n",
    "\n",
    "# Filter the dataset to only include records for the H1B visa type\n",
    "h1b_df = y2021[y2021['Visa_Class'] == 'H-1B']\n",
    "\n",
    "# Save the filtered DataFrame to a new CSV file if needed\n",
    "h1b_df.to_csv('./LCA_FY_2021.csv', index=False)\n",
    "\n",
    "\n",
    "# Filter the dataset to only include records for the H1B visa type\n",
    "h1b_df = y2022[y2022['Visa_Class'] == 'H-1B']\n",
    "\n",
    "# Save the filtered DataFrame to a new CSV file if needed\n",
    "h1b_df.to_csv('./LCA_FY_2022.csv', index=False)\n",
    "\n",
    "'''\n",
    "# Filter the dataset to only include records for the H1B visa type\n",
    "h1b_df = y2023[y2023['Visa_Class'] == 'H-1B']\n",
    "\n",
    "# Save the filtered DataFrame to a new CSV file if needed\n",
    "h1b_df.to_csv('./LCA_FY_2023.csv', index=False)\n"
   ]
  },
  {
   "cell_type": "code",
   "execution_count": null,
   "id": "ab1d4fd5",
   "metadata": {},
   "outputs": [],
   "source": []
  }
 ],
 "metadata": {
  "kernelspec": {
   "display_name": "Python 3 (ipykernel)",
   "language": "python",
   "name": "python3"
  },
  "language_info": {
   "codemirror_mode": {
    "name": "ipython",
    "version": 3
   },
   "file_extension": ".py",
   "mimetype": "text/x-python",
   "name": "python",
   "nbconvert_exporter": "python",
   "pygments_lexer": "ipython3",
   "version": "3.11.4"
  }
 },
 "nbformat": 4,
 "nbformat_minor": 5
}
